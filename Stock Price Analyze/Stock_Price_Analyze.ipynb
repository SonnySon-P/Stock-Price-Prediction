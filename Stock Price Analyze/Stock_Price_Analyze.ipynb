{
  "nbformat": 4,
  "nbformat_minor": 0,
  "metadata": {
    "colab": {
      "provenance": []
    },
    "kernelspec": {
      "name": "python3",
      "display_name": "Python 3"
    },
    "language_info": {
      "name": "python"
    }
  },
  "cells": [
    {
      "cell_type": "markdown",
      "source": [
        "### 零、安裝套件"
      ],
      "metadata": {
        "id": "N5USnK0coZop"
      }
    },
    {
      "cell_type": "code",
      "execution_count": null,
      "metadata": {
        "id": "6RQaZIZFKQKZ"
      },
      "outputs": [],
      "source": [
        "!pip install yfinance\n",
        "!pip install pandas_ta"
      ]
    },
    {
      "cell_type": "markdown",
      "source": [
        "### 壹、載入套件"
      ],
      "metadata": {
        "id": "RO_HbItaof7s"
      }
    },
    {
      "cell_type": "code",
      "source": [
        "import yfinance as yf # 獲取股市API\n",
        "import datetime as dt # 計時套件\n",
        "import matplotlib.pyplot as plt # 資料視覺化套件\n",
        "import pandas as pd # 資料分析套件\n",
        "import numpy as np # 矩陣運算套件"
      ],
      "metadata": {
        "id": "cyTO620dofnJ"
      },
      "execution_count": null,
      "outputs": []
    },
    {
      "cell_type": "markdown",
      "source": [
        "### 貳、擷取股價"
      ],
      "metadata": {
        "id": "aUtT2GYYooOc"
      }
    },
    {
      "cell_type": "code",
      "source": [
        "# 輸入起始與結束時間\n",
        "StartTime = dt.datetime(2010, 1, 1)\n",
        "EndTime = dt.date.today()\n",
        "\n",
        "# 輸入公司代號\n",
        "CodeName = '2330.TW'\n",
        "\n",
        "# 擷取資料\n",
        "Data = yf.download(CodeName, start = StartTime, end = EndTime)\n",
        "\n",
        "# 可視化時間範圍收盤價\n",
        "plt.figure(figsize = (14, 5), dpi = 100)\n",
        "plt.plot(Data['Close'], label = 'TSMC')\n",
        "plt.vlines(dt.date(2016, 1, 1), 0, 270, linestyles = '--', colors = 'gray', label = 'Train/Test data cut-off')\n",
        "plt.xlabel('Date')\n",
        "plt.ylabel('TWD')\n",
        "plt.title('Figure 1: TSMC stock price')\n",
        "plt.legend()\n",
        "plt.show()"
      ],
      "metadata": {
        "id": "VwXK4PZuoupp"
      },
      "execution_count": null,
      "outputs": []
    },
    {
      "cell_type": "markdown",
      "source": [
        "### 參、技術指標"
      ],
      "metadata": {
        "id": "eNr_uyTiozxx"
      }
    },
    {
      "cell_type": "code",
      "source": [
        "def TechnicalIndicators(Data):\n",
        "    # 簡單移動平均\n",
        "    Data['SMA10'] = Data['Close'].rolling(window = 10).mean()\n",
        "    Data['SMA40'] = Data['Close'].rolling(window = 40).mean()\n",
        "    Data['SMA200'] = Data['Close'].rolling(window = 200).mean()\n",
        "\n",
        "    # 指數移動平均\n",
        "    Data['EMA12'] = Data['Close'].ewm(span = 12).mean()\n",
        "    Data['EMA26'] = Data['Close'].ewm(span = 26).mean()\n",
        "\n",
        "    # 指數平滑異同移動平均線\n",
        "    Data['DIF'] = Data['EMA12'] - Data['EMA26']\n",
        "    Data['MACD'] = Data['DIF'].ewm(span = 9).mean()\n",
        "    Data['OSC'] = Data['DIF'] - Data['MACD']\n",
        "\n",
        "    # 布林通道(採用SMA20跟2倍標準差)\n",
        "    Data['SMA20STD'] = Data['Close'].rolling(window = 20).std()\n",
        "    Data['UpperBand'] = (Data['Close'].rolling(window = 20).mean()) + (Data['SMA20STD'] * 2)\n",
        "    Data['LowerBand'] = (Data['Close'].rolling(window = 20).mean()) - (Data['SMA20STD'] * 2)\n",
        "\n",
        "    return Data\n",
        "\n",
        "TechnicalIndicators(Data)\n",
        "\n",
        "# 可視化技術指標(SMA、Bollinger Bands)\n",
        "plt.figure(figsize = (14, 5), dpi = 100)\n",
        "plt.plot(Data['Close'], label = 'Closing Price', color = 'b')\n",
        "plt.plot(Data['SMA10'], label = 'MA 10', color = 'g', linestyle = '--')\n",
        "plt.plot(Data['SMA40'], label = 'MA 40', color = 'r', linestyle = '--')\n",
        "plt.plot(Data['SMA200'], label = 'MA 200', color = 'y', linestyle = '--')\n",
        "plt.plot(Data['UpperBand'], label = 'Upper Band', color = 'c')\n",
        "plt.plot(Data['LowerBand'],label = 'Lower Band', color = 'c')\n",
        "Datat = Data.iloc[0:, :]\n",
        "x = list(Data.index)\n",
        "plt.fill_between(x, Data['LowerBand'], Data['UpperBand'], alpha = 0.3)\n",
        "plt.title('Figure 2: Technical indicators(SMA、Bollinger Bands) for TSMC')\n",
        "plt.xlabel('Date')\n",
        "plt.ylabel('TWD')\n",
        "plt.legend()\n",
        "plt.show()\n",
        "\n",
        "# 可視化技術指標(OSC)\n",
        "plt.figure(figsize = (14, 5), dpi = 100)\n",
        "plt.bar(x, Data['OSC'])\n",
        "plt.title('Figure 3: Technical indicators(OSC) for TSMC')\n",
        "plt.xlabel('Date')\n",
        "plt.ylabel('TWD')\n",
        "plt.legend()\n",
        "plt.show()"
      ],
      "metadata": {
        "id": "HAa_zHh0ozVZ"
      },
      "execution_count": null,
      "outputs": []
    },
    {
      "cell_type": "markdown",
      "source": [
        "### 肆、多支股票間的相關性"
      ],
      "metadata": {
        "id": "N1LC3gHxpAAl"
      }
    },
    {
      "cell_type": "code",
      "source": [
        "# 輸入公司代號\n",
        "CodeName_1 = '1216.TW'  # 統一\n",
        "CodeName_2 = '1301.TW'  # 台塑\n",
        "CodeName_3 = '2330.TW'  # 台積電\n",
        "CodeName_4 = '2454.TW'  # 聯發科\n",
        "CodeName_5 = '2603.TW'  # 長榮\n",
        "CodeName_6 = '2882.TW'  # 國泰\n",
        "\n",
        "# 輸入起始與結束時間\n",
        "StartTime = dt.datetime(2015, 1, 1)\n",
        "EndTime = dt.date.today()\n",
        "\n",
        "# 擷取資料\n",
        "Data_1 = yf.download(CodeName_1, start = StartTime, end = EndTime)\n",
        "Data_2 = yf.download(CodeName_2, start = StartTime, end = EndTime)\n",
        "Data_3 = yf.download(CodeName_3, start = StartTime, end = EndTime)\n",
        "Data_4 = yf.download(CodeName_4, start = StartTime, end = EndTime)\n",
        "Data_5 = yf.download(CodeName_5, start = StartTime, end = EndTime)\n",
        "Data_6 = yf.download(CodeName_6, start = StartTime, end = EndTime)\n",
        "Data_List = pd.DataFrame()\n",
        "Data_List['1216.TW'] = Data_1['Close']\n",
        "Data_List['1301.TW'] = Data_2['Close']\n",
        "Data_List['2330.TW'] = Data_3['Close']\n",
        "Data_List['2454.TW'] = Data_4['Close']\n",
        "Data_List['2603.TW'] = Data_5['Close']\n",
        "Data_List['2882.TW'] = Data_6['Close']\n",
        "\n",
        "# 可視化相關係數矩陣\n",
        "fig = plt.figure(figsize = (10, 10))\n",
        "ax = fig.add_subplot()\n",
        "fig.colorbar(ax.matshow(Data_List.corr(), vmin = -1, vmax = 1))\n",
        "ticks = np.arange(len(Data_List.corr().columns))\n",
        "ax.tick_params(axis = 'x', which = 'major', labelsize = 14, rotation = 90)\n",
        "ax.tick_params(axis = 'y', which = 'major', labelsize = 14, rotation = 0)\n",
        "ax.set_xticks(ticks)\n",
        "ax.set_yticks(ticks)\n",
        "ax.set_xticklabels(Data_List.corr().columns)\n",
        "ax.set_yticklabels(Data_List.corr().columns)\n",
        "plt.title('Correlation Matrix', fontsize = 20)\n",
        "plt.show()"
      ],
      "metadata": {
        "id": "RVJMRQFOpJoN"
      },
      "execution_count": null,
      "outputs": []
    }
  ]
}