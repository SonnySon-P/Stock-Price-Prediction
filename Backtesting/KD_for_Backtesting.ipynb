{
  "nbformat": 4,
  "nbformat_minor": 0,
  "metadata": {
    "colab": {
      "provenance": []
    },
    "kernelspec": {
      "name": "python3",
      "display_name": "Python 3"
    },
    "language_info": {
      "name": "python"
    }
  },
  "cells": [
    {
      "cell_type": "markdown",
      "source": [
        "### 參考資料：\n",
        "1. https://kernc.github.io/backtesting.py/\n",
        "2. https://havocfuture.tw/blog/python-backtesting-py"
      ],
      "metadata": {
        "id": "NxEJfBlTbNm6"
      }
    },
    {
      "cell_type": "markdown",
      "source": [
        "### 零、安裝套件"
      ],
      "metadata": {
        "id": "fxKhuF_34hDg"
      }
    },
    {
      "cell_type": "code",
      "execution_count": null,
      "metadata": {
        "id": "zKlOZY2c4Gwf"
      },
      "outputs": [],
      "source": [
        "!pip install yfinance\n",
        "!pip install backtesting\n",
        "\n",
        "!wget http://prdownloads.sourceforge.net/ta-lib/ta-lib-0.4.0-src.tar.gz\n",
        "!tar -xzvf ta-lib-0.4.0-src.tar.gz\n",
        "%cd ta-lib\n",
        "!./configure --prefix=/usr\n",
        "!make\n",
        "!make install\n",
        "!pip install Ta-Lib"
      ]
    },
    {
      "cell_type": "markdown",
      "source": [
        "### 壹、載入套件"
      ],
      "metadata": {
        "id": "HidV7qMy4xlh"
      }
    },
    {
      "cell_type": "code",
      "source": [
        "import yfinance as yf # 獲取股市API\n",
        "import datetime as dt # 計時套件\n",
        "import pandas as pd # 資料分析套件\n",
        "from talib import abstract # 計算技術指標套件\n",
        "from backtesting import Backtest, Strategy # 回測、策略套件\n",
        "from backtesting.lib import crossover # 找交叉套件"
      ],
      "metadata": {
        "id": "FisyPbNh4xOl"
      },
      "execution_count": null,
      "outputs": []
    },
    {
      "cell_type": "markdown",
      "source": [
        "### 貳、擷取股價"
      ],
      "metadata": {
        "id": "Bjg0mOQq47VS"
      }
    },
    {
      "cell_type": "code",
      "source": [
        "# 輸入起始與結束時間\n",
        "StartTime = dt.datetime(2010, 1, 1)\n",
        "EndTime = dt.date.today()\n",
        "\n",
        "# 輸入公司代號\n",
        "CodeName = '2330.TW'\n",
        "\n",
        "# 擷取資料\n",
        "Data = yf.download(CodeName, start = StartTime, end = EndTime)"
      ],
      "metadata": {
        "id": "wLEGpuGd48LX"
      },
      "execution_count": null,
      "outputs": []
    },
    {
      "cell_type": "markdown",
      "source": [
        "### 參、計算KD值"
      ],
      "metadata": {
        "id": "1WIe5RhOQQZJ"
      }
    },
    {
      "cell_type": "code",
      "source": [
        "# 更改ta-lib所需格式\n",
        "Data_Temp = Data.rename(columns={\"High\": \"high\", \"Low\": \"low\", \"Close\": \"close\"})\n",
        "\n",
        "# 計算慢速隨機指標KD值\n",
        "Data_KD = abstract.STOCH(Data_Temp, fastk_period = 9, slowk_period = 3, slowd_period = 3) # 慢速指標以3日移動平均值、快速指標以3日移動平均值\n",
        "\n",
        "# 合併資料\n",
        "Data = pd.merge(Data, Data_KD, on = \"Date\")"
      ],
      "metadata": {
        "id": "xUg-zaNFJ2BL"
      },
      "execution_count": 4,
      "outputs": []
    },
    {
      "cell_type": "markdown",
      "source": [
        "## 肆、回測"
      ],
      "metadata": {
        "id": "lhrizI-DQoeH"
      }
    },
    {
      "cell_type": "code",
      "source": [
        "class KD_Cross(Strategy):\n",
        "    def init(self):\n",
        "        super().init()\n",
        "\n",
        "    def next(self):\n",
        "        if crossover(20, self.data.slowk): # K < 20 買進\n",
        "            self.buy()\n",
        "        elif crossover(self.data.slowk, 80): # K > 80 賣出\n",
        "            self.position.close()\n",
        "\n",
        "bt = Backtest(Data, KD_Cross, cash = 10000, commission = 0.001425) # 交易手續費0.1425%\n",
        "output = bt.run()\n",
        "bt.plot()"
      ],
      "metadata": {
        "id": "NAYxeqMGLmKG"
      },
      "execution_count": null,
      "outputs": []
    }
  ]
}