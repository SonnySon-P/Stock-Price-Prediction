{
  "nbformat": 4,
  "nbformat_minor": 0,
  "metadata": {
    "colab": {
      "provenance": []
    },
    "kernelspec": {
      "name": "python3",
      "display_name": "Python 3"
    },
    "language_info": {
      "name": "python"
    }
  },
  "cells": [
    {
      "cell_type": "markdown",
      "source": [
        "### 參考資料：\n",
        "1. https://kernc.github.io/backtesting.py/\n",
        "2. https://havocfuture.tw/blog/python-backtesting-py"
      ],
      "metadata": {
        "id": "ba0aU51EZizC"
      }
    },
    {
      "cell_type": "markdown",
      "source": [
        "### 零、安裝套件"
      ],
      "metadata": {
        "id": "fxKhuF_34hDg"
      }
    },
    {
      "cell_type": "code",
      "execution_count": null,
      "metadata": {
        "id": "zKlOZY2c4Gwf"
      },
      "outputs": [],
      "source": [
        "!pip install yfinance\n",
        "!pip install backtesting\n",
        "\n",
        "!wget http://prdownloads.sourceforge.net/ta-lib/ta-lib-0.4.0-src.tar.gz\n",
        "!tar -xzvf ta-lib-0.4.0-src.tar.gz\n",
        "%cd ta-lib\n",
        "!./configure --prefix=/usr\n",
        "!make\n",
        "!make install\n",
        "!pip install Ta-Lib"
      ]
    },
    {
      "cell_type": "markdown",
      "source": [
        "### 壹、載入套件"
      ],
      "metadata": {
        "id": "HidV7qMy4xlh"
      }
    },
    {
      "cell_type": "code",
      "source": [
        "import yfinance as yf # 獲取股市API\n",
        "import datetime as dt # 計時套件\n",
        "import pandas as pd # 資料分析套件\n",
        "from talib import abstract # 計算技術指標套件\n",
        "from backtesting import Backtest, Strategy # 回測、策略套件\n",
        "from backtesting.lib import crossover # 找交叉套件\n",
        "from backtesting.test import SMA, GOOG"
      ],
      "metadata": {
        "id": "FisyPbNh4xOl"
      },
      "execution_count": 14,
      "outputs": []
    },
    {
      "cell_type": "markdown",
      "source": [
        "### 貳、擷取股價"
      ],
      "metadata": {
        "id": "Bjg0mOQq47VS"
      }
    },
    {
      "cell_type": "code",
      "source": [
        "# 輸入起始與結束時間\n",
        "StartTime = dt.datetime(2010, 1, 1)\n",
        "EndTime = dt.date.today()\n",
        "\n",
        "# 輸入公司代號\n",
        "CodeName = '2330.TW'\n",
        "\n",
        "# 擷取資料\n",
        "Data = yf.download(CodeName, start = StartTime, end = EndTime)"
      ],
      "metadata": {
        "id": "wLEGpuGd48LX"
      },
      "execution_count": null,
      "outputs": []
    },
    {
      "cell_type": "markdown",
      "source": [
        "## 參、回測"
      ],
      "metadata": {
        "id": "lhrizI-DQoeH"
      }
    },
    {
      "cell_type": "code",
      "source": [
        "class SMA_Cross(Strategy):\n",
        "  def init(self):\n",
        "    self.SMA10 = self.I(SMA, Data['Close'], 10)\n",
        "    self.SMA40 = self.I(SMA, Data['Close'], 40)\n",
        "\n",
        "  # 當10日移動平均往上穿越40日移動平均時『買進』，當10日移動平均往下穿越40日移動平均時『賣出』\n",
        "  def next(self):\n",
        "      if crossover(self.SMA10, self.SMA40):\n",
        "          self.buy()\n",
        "      elif crossover(self.SMA40, self.SMA10):\n",
        "          self.sell()\n",
        "\n",
        "bt = Backtest(Data, SMA_Cross, cash = 10000, commission = 0.001425) # 交易手續費0.1425%\n",
        "output = bt.run()\n",
        "bt.plot()\n",
        "print(output)"
      ],
      "metadata": {
        "id": "SKbJawv9VSdP"
      },
      "execution_count": null,
      "outputs": []
    }
  ]
}